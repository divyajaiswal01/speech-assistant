{
 "cells": [
  {
   "cell_type": "code",
   "execution_count": 1,
   "id": "f11cc1ce-4150-41af-b098-1a7f19df434e",
   "metadata": {},
   "outputs": [
    {
     "name": "stdout",
     "output_type": "stream",
     "text": [
      "Defaulting to user installation because normal site-packages is not writeable\n",
      "Processing c:\\users\\diya\\downloads\\pyaudio-0.2.14-cp312-cp312-win_amd64.whl\n",
      "PyAudio is already installed with the same version as the provided wheel. Use --force-reinstall to force an installation of the wheel.\n"
     ]
    }
   ],
   "source": [
    "!pip install \"C:/Users/Diya/Downloads/PyAudio-0.2.14-cp312-cp312-win_amd64.whl"
   ]
  },
  {
   "cell_type": "code",
   "execution_count": 27,
   "id": "861b641a-ab8c-4cae-ac52-516bd4dbe183",
   "metadata": {},
   "outputs": [
    {
     "name": "stdout",
     "output_type": "stream",
     "text": [
      "PyAudio installed successfully!\n"
     ]
    }
   ],
   "source": [
    "import pyaudio\n",
    "print(\"PyAudio installed successfully!\")"
   ]
  },
  {
   "cell_type": "code",
   "execution_count": 29,
   "id": "1a637e12-7a0b-4bf8-9671-e387fd59a885",
   "metadata": {},
   "outputs": [],
   "source": [
    "#!pip install SpeechRecognition\n",
    "#!pip install pyttsx3\n",
    "import speech_recognition as sr\n",
    "import pyttsx3\n",
    "import datetime\n",
    "import webbrowser\n",
    "import os"
   ]
  },
  {
   "cell_type": "code",
   "execution_count": 31,
   "id": "04a69e9d-a0b4-4262-ad9e-23af116a37dd",
   "metadata": {},
   "outputs": [],
   "source": [
    "r = sr.Recognizer()\n",
    "\n",
    "def SpeakText(command):\n",
    "    engine = pyttsx3.init()\n",
    "    engine.say(command)\n",
    "    engine.runAndWait()"
   ]
  },
  {
   "cell_type": "code",
   "execution_count": 36,
   "id": "60fb64bd-d39b-4880-9e30-0fe91e14952e",
   "metadata": {},
   "outputs": [
    {
     "name": "stdout",
     "output_type": "stream",
     "text": [
      "Silence please,calibrating background noise\n",
      "Calibrated,now speak.......\n",
      "DID YOU SAY welcome to speech recognition\n"
     ]
    }
   ],
   "source": [
    "with sr.Microphone() as source2:\n",
    "    print(\"Silence please,calibrating background noise\")\n",
    "    r.adjust_for_ambient_noise(source2,duration=2)\n",
    "    print(\"Calibrated,now speak.......\")\n",
    "    audio2 = r.listen(source2)\n",
    "\n",
    "    MyText = r.recognize_google(audio2)\n",
    "    MyText = MyText.lower()\n",
    "\n",
    "    print(\"DID YOU SAY \"+MyText)\n",
    "    SpeakText(MyText)\n",
    "    "
   ]
  },
  {
   "cell_type": "code",
   "execution_count": 38,
   "id": "c9e7cef2-7808-4892-86e2-dacc57fadbd2",
   "metadata": {},
   "outputs": [
    {
     "ename": "TypeError",
     "evalue": "'str' object is not callable",
     "output_type": "error",
     "traceback": [
      "\u001b[1;31m---------------------------------------------------------------------------\u001b[0m",
      "\u001b[1;31mTypeError\u001b[0m                                 Traceback (most recent call last)",
      "Cell \u001b[1;32mIn[38], line 30\u001b[0m\n\u001b[0;32m     27\u001b[0m     \u001b[38;5;28;01melse\u001b[39;00m:\n\u001b[0;32m     28\u001b[0m         MyText(\u001b[38;5;124m\"\u001b[39m\u001b[38;5;124mSorry, I don\u001b[39m\u001b[38;5;124m'\u001b[39m\u001b[38;5;124mt understand that yet.\u001b[39m\u001b[38;5;124m\"\u001b[39m)\n\u001b[1;32m---> 30\u001b[0m runAssistant()\n",
      "Cell \u001b[1;32mIn[38], line 2\u001b[0m, in \u001b[0;36mrunAssistant\u001b[1;34m()\u001b[0m\n\u001b[0;32m      1\u001b[0m \u001b[38;5;28;01mdef\u001b[39;00m \u001b[38;5;21mrunAssistant\u001b[39m():\n\u001b[1;32m----> 2\u001b[0m     MyText(\u001b[38;5;124m\"\u001b[39m\u001b[38;5;124mHow can I help you?\u001b[39m\u001b[38;5;124m\"\u001b[39m)\n\u001b[0;32m      3\u001b[0m     query \u001b[38;5;241m=\u001b[39m takeCommand()\n\u001b[0;32m      5\u001b[0m     \u001b[38;5;28;01mif\u001b[39;00m \u001b[38;5;124m\"\u001b[39m\u001b[38;5;124myoutube\u001b[39m\u001b[38;5;124m\"\u001b[39m \u001b[38;5;129;01min\u001b[39;00m query:\n",
      "\u001b[1;31mTypeError\u001b[0m: 'str' object is not callable"
     ]
    }
   ],
   "source": [
    "def runAssistant():\n",
    "    MyText(\"How can I help you?\")\n",
    "    query = takeCommand()\n",
    "\n",
    "    if \"youtube\" in query:\n",
    "        MyText(\"Opening YouTube\")\n",
    "        webbrowser.open(\"https://www.youtube.com\")\n",
    "\n",
    "    elif \"time\" in query:\n",
    "        current_time = datetime.datetime.now().strftime(\"%I:%M %p\")\n",
    "        MyText(f\"The time is {current_time}\")\n",
    "\n",
    "    elif \"notepad\" in query:\n",
    "        MyText(\"Opening Notepad\")\n",
    "        os.system(\"notepad.exe\")\n",
    "\n",
    "    elif \"play music\" in query:\n",
    "        MyText(\"Playing music\")\n",
    "        music_path = \"C:\\\\Path\\\\To\\\\Your\\\\Music.mp3\"\n",
    "        os.startfile(music_path)\n",
    "\n",
    "    elif \"search\" in query:\n",
    "        search_term = query.replace(\"search\", \"\").strip()\n",
    "        MyText(f\"Searching for {search_term}\")\n",
    "        webbrowser.open(f\"https://www.google.com/search?q={search_term}\")\n",
    "\n",
    "    else:\n",
    "        MyText(\"Sorry, I don't understand that yet.\")\n",
    "\n",
    "runAssistant()"
   ]
  },
  {
   "cell_type": "code",
   "execution_count": null,
   "id": "a3bc1dae-99fd-4385-a518-74e1753386b6",
   "metadata": {},
   "outputs": [],
   "source": []
  }
 ],
 "metadata": {
  "kernelspec": {
   "display_name": "Python [conda env:base] *",
   "language": "python",
   "name": "conda-base-py"
  },
  "language_info": {
   "codemirror_mode": {
    "name": "ipython",
    "version": 3
   },
   "file_extension": ".py",
   "mimetype": "text/x-python",
   "name": "python",
   "nbconvert_exporter": "python",
   "pygments_lexer": "ipython3",
   "version": "3.12.7"
  }
 },
 "nbformat": 4,
 "nbformat_minor": 5
}
