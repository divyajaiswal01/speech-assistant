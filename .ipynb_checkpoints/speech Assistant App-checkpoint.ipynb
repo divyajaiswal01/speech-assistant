{
 "cells": [
  {
   "cell_type": "code",
   "execution_count": 5,
   "id": "017c6436-3a09-4ed6-92ef-e68ebf439f36",
   "metadata": {},
   "outputs": [
    {
     "ename": "IndentationError",
     "evalue": "expected an indented block after function definition on line 28 (68646847.py, line 31)",
     "output_type": "error",
     "traceback": [
      "\u001b[1;36m  Cell \u001b[1;32mIn[5], line 31\u001b[1;36m\u001b[0m\n\u001b[1;33m    def respond(voice_data):\u001b[0m\n\u001b[1;37m    ^\u001b[0m\n\u001b[1;31mIndentationError\u001b[0m\u001b[1;31m:\u001b[0m expected an indented block after function definition on line 28\n"
     ]
    }
   ],
   "source": [
    "import random \n",
    "import speech_recognition as sr\n",
    "import webbrowser\n",
    "import time\n",
    "import playsound\n",
    "import os\n",
    "import random\n",
    "from ggts import gTTS\n",
    "from time import ctime\n",
    "\n",
    "r= sr.Recognizer()\n",
    "\n",
    "def record_audio(ask=False):\n",
    "    with sr.Microphone() as source:\n",
    "        if ask :\n",
    "            print(ask)\n",
    "        audio= r.listen(source)\n",
    "        voice_data = ' '\n",
    "        try:\n",
    "            voice_data = r.recognize_google(audio)\n",
    "        except sr.UnknownValueError:\n",
    "            print('Sorry, I did not get that')\n",
    "        except sr.RequestError:\n",
    "            print('sorry , my speech service is down')\n",
    "        return voice_data\n",
    "\n",
    "\n",
    "def divya_speak():\n",
    "    tts = gTTS(text = audiio_string , lang='en')\n",
    "    r = random.randint(1,1000000)\n",
    "    audio_file = 'audio-' + str(r) + '.mp3'\n",
    "    tts.save(audio_file)\n",
    "    playsound.playsound(audio_file)\n",
    "    print(audio_string)\n",
    "    os.remove(audio_file)\n",
    "\n",
    "\n",
    "def respond(voice_data):\n",
    "    if 'what is your name' in voice_data:\n",
    "        print(\"My Name Is Divya\")\n",
    "\n",
    "\n",
    "    if 'what time is it' in voice_data:\n",
    "        print(ctime())\n",
    "\n",
    "\n",
    "    if 'search' in voice_data:\n",
    "        search= record_audio('What Do You Want To Search')\n",
    "        url = 'https://google.com/search?q=' + search\n",
    "        webbrowser.get().open(url)\n",
    "        print('Here is what I found for '+search)\n",
    "\n",
    "\n",
    "    if 'find location' in voice_data:\n",
    "        search = record_audio('What the location?')\n",
    "        url = 'https://www.google.com/maps/place/' + search\n",
    "        webbrowser.get().open(url)\n",
    "        print('Here is the location: ' + search)\n",
    "\n",
    "    if 'exit' in voice_data:\n",
    "        exit()\n",
    "\n",
    "\n",
    "time.sleep(1)\n",
    "print('How Can I Help You?')\n",
    "while 1:\n",
    "    voice_data = record_audio()\n",
    "    respond(voice_data)   \n",
    "        "
   ]
  },
  {
   "cell_type": "code",
   "execution_count": 1,
   "id": "c5551ca8-db1f-4b77-95fb-2f718706c2c0",
   "metadata": {},
   "outputs": [
    {
     "name": "stdout",
     "output_type": "stream",
     "text": [
      "Defaulting to user installation because normal site-packages is not writeable\n",
      "Requirement already satisfied: gTTS in c:\\users\\diya\\appdata\\roaming\\python\\python312\\site-packages (2.5.4)\n",
      "Requirement already satisfied: requests<3,>=2.27 in c:\\programdata\\anaconda3\\lib\\site-packages (from gTTS) (2.32.3)\n",
      "Requirement already satisfied: click<8.2,>=7.1 in c:\\programdata\\anaconda3\\lib\\site-packages (from gTTS) (8.1.7)\n",
      "Requirement already satisfied: colorama in c:\\programdata\\anaconda3\\lib\\site-packages (from click<8.2,>=7.1->gTTS) (0.4.6)\n",
      "Requirement already satisfied: charset-normalizer<4,>=2 in c:\\programdata\\anaconda3\\lib\\site-packages (from requests<3,>=2.27->gTTS) (3.3.2)\n",
      "Requirement already satisfied: idna<4,>=2.5 in c:\\programdata\\anaconda3\\lib\\site-packages (from requests<3,>=2.27->gTTS) (3.7)\n",
      "Requirement already satisfied: urllib3<3,>=1.21.1 in c:\\programdata\\anaconda3\\lib\\site-packages (from requests<3,>=2.27->gTTS) (2.2.3)\n",
      "Requirement already satisfied: certifi>=2017.4.17 in c:\\programdata\\anaconda3\\lib\\site-packages (from requests<3,>=2.27->gTTS) (2024.8.30)\n",
      "Note: you may need to restart the kernel to use updated packages.\n"
     ]
    }
   ],
   "source": [
    "pip install gTTS"
   ]
  },
  {
   "cell_type": "code",
   "execution_count": 3,
   "id": "b4915b30-2592-4db2-aa6d-1e7a4a0b48db",
   "metadata": {},
   "outputs": [
    {
     "name": "stdout",
     "output_type": "stream",
     "text": [
      "Defaulting to user installation because normal site-packages is not writeable\n",
      "Collecting playsound\n",
      "  Downloading playsound-1.3.0.tar.gz (7.7 kB)\n",
      "  Preparing metadata (setup.py): started\n",
      "  Preparing metadata (setup.py): finished with status 'done'\n",
      "Building wheels for collected packages: playsound\n",
      "  Building wheel for playsound (setup.py): started\n",
      "  Building wheel for playsound (setup.py): finished with status 'done'\n",
      "  Created wheel for playsound: filename=playsound-1.3.0-py3-none-any.whl size=7044 sha256=5e0513d5cef383e3bb86d684d3f7cc752b42d8d7e673e9994c0484e809082fdf\n",
      "  Stored in directory: c:\\users\\diya\\appdata\\local\\pip\\cache\\wheels\\cf\\42\\ff\\7c587bae55eec67b909ca316b250d9b4daedbf272a3cbeb907\n",
      "Successfully built playsound\n",
      "Installing collected packages: playsound\n",
      "Successfully installed playsound-1.3.0\n",
      "Note: you may need to restart the kernel to use updated packages.\n"
     ]
    }
   ],
   "source": [
    "pip install playsound"
   ]
  },
  {
   "cell_type": "code",
   "execution_count": null,
   "id": "f528a282-1f0e-46d9-9e14-616bf68da54c",
   "metadata": {},
   "outputs": [],
   "source": []
  }
 ],
 "metadata": {
  "kernelspec": {
   "display_name": "Python [conda env:base] *",
   "language": "python",
   "name": "conda-base-py"
  },
  "language_info": {
   "codemirror_mode": {
    "name": "ipython",
    "version": 3
   },
   "file_extension": ".py",
   "mimetype": "text/x-python",
   "name": "python",
   "nbconvert_exporter": "python",
   "pygments_lexer": "ipython3",
   "version": "3.12.7"
  }
 },
 "nbformat": 4,
 "nbformat_minor": 5
}
