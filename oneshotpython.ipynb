{
 "cells": [
  {
   "cell_type": "code",
   "execution_count": 18,
   "id": "3418c509-cb38-427a-9552-60d005b5c4c2",
   "metadata": {},
   "outputs": [
    {
     "name": "stdout",
     "output_type": "stream",
     "text": [
      "5\n",
      "9.0\n",
      "81.0\n",
      "30\n",
      "10\n",
      "4\n",
      "4.0\n"
     ]
    }
   ],
   "source": [
    "from math import*\n",
    "my_num=5\n",
    "#abs function is used to get abslute value\n",
    "print(abs(my_num))\n",
    "#pow function is used to get power\n",
    "print(pow(3,2))\n",
    "print(pow(9,2))\n",
    "#max function is used to find the larger of two number\n",
    "print(max(10,20,30))\n",
    "print(min(10,20))\n",
    "print(round(3.5))\n",
    "print(sqrt(16))"
   ]
  },
  {
   "cell_type": "code",
   "execution_count": 12,
   "id": "2dfb166c-1deb-4a42-b965-0e4f6867763e",
   "metadata": {},
   "outputs": [
    {
     "name": "stdin",
     "output_type": "stream",
     "text": [
      "enter your name :  diya\n",
      "enter your age :  20\n"
     ]
    },
    {
     "name": "stdout",
     "output_type": "stream",
     "text": [
      "hello diya!you are 20\n"
     ]
    }
   ],
   "source": [
    "name = input(\"enter your name : \")\n",
    "age = input(\"enter your age : \")\n",
    "print(\"hello \" + name +\"!\" + \"you are \" + age )"
   ]
  },
  {
   "cell_type": "code",
   "execution_count": 26,
   "id": "a07c3da2-accc-419e-9991-be0a59382a7c",
   "metadata": {},
   "outputs": [
    {
     "name": "stdin",
     "output_type": "stream",
     "text": [
      "enter first number :  5\n",
      "enter second number :  5\n"
     ]
    },
    {
     "name": "stdout",
     "output_type": "stream",
     "text": [
      "10.0\n"
     ]
    }
   ],
   "source": [
    "num1 = input(\"enter first number : \")\n",
    "num2 = input(\"enter second number : \")\n",
    "result = float(num1) +float(num2)\n",
    "print(result)"
   ]
  },
  {
   "cell_type": "code",
   "execution_count": 34,
   "id": "5b020c81-d707-4d5b-b30b-ec419ea08368",
   "metadata": {},
   "outputs": [
    {
     "name": "stdin",
     "output_type": "stream",
     "text": [
      "enter a color : pink\n",
      "enter a plural noun : sky\n",
      "enter a cebebrity : katrina kaif\n"
     ]
    },
    {
     "name": "stdout",
     "output_type": "stream",
     "text": [
      "roses are pink\n",
      "sky are blue\n",
      "i love katrina kaif\n"
     ]
    }
   ],
   "source": [
    "color = input (\"enter a color :\")\n",
    "plural_noun = input (\"enter a plural noun :\")\n",
    "celebrity = input (\"enter a cebebrity :\")\n",
    "print(\"roses are \" +color)\n",
    "print(plural_noun + \" are blue\")\n",
    "print(\"i love \" +celebrity)\n"
   ]
  },
  {
   "cell_type": "code",
   "execution_count": 118,
   "id": "e808a7b2-1bf8-4d31-83b1-5420489119de",
   "metadata": {},
   "outputs": [
    {
     "name": "stdout",
     "output_type": "stream",
     "text": [
      "siya\n",
      "pooja\n",
      "['siya', 'pooja']\n",
      "['diya', 'siya', 'pooja']\n",
      "['nilofer', 'siya', 'pooja']\n",
      "['nilofer', 'siya', 'pooja', 4, 8, 20, 100]\n",
      "['nilofer', 'siya', 'pooja', 4, 8, 20, 100, 'sneha']\n",
      "['nilofer', 'diya', 'siya', 'pooja', 4, 8, 20, 100, 'sneha']\n",
      "['nilofer', 'siya', 'pooja', 4, 8, 20, 100, 'sneha']\n",
      "['nilofer', 'siya', 'pooja', 4, 8, 20, 100, 'sneha']\n",
      "[4, 8, 20, 100]\n",
      "['nilofer', 'siya', 'pooja', 4, 8, 20, 100, 'sneha']\n",
      "['nilofer', 'siya', 'pooja', 4, 8, 20, 100, 'sneha']\n",
      "[]\n"
     ]
    }
   ],
   "source": [
    "#list in python\n",
    "l1=[1,2,3]\n",
    "l1\n",
    "friends=[\"diya\" , \"siya\" ,\"pooja\"]\n",
    "print(friends[1])\n",
    "print(friends[-1])\n",
    "print(friends[1:])\n",
    "print(friends[:3])\n",
    "friends[0]= \"nilofer\"\n",
    "print(friends)\n",
    "#list function\n",
    "lucky_number =[4,8,20,100]\n",
    "friends.extend(lucky_number)\n",
    "print(friends)\n",
    "friends.append(\"sneha\")\n",
    "print(friends)\n",
    "friends.insert(1,\"diya\")\n",
    "print(friends)\n",
    "friends.remove(\"diya\")\n",
    "print(friends)\n",
    "friends.index(\"pooja\")\n",
    "print(friends)\n",
    "lucky_number.sort()\n",
    "print(lucky_number)\n",
    "friends.index(\"siya\")\n",
    "print(friends)\n",
    "friends2=friends.copy()\n",
    "print(friends2)\n",
    "friends.clear()\n",
    "print(friends)\n"
   ]
  },
  {
   "cell_type": "code",
   "execution_count": 128,
   "id": "22929463-47e7-416a-8160-f3e2b63280a5",
   "metadata": {},
   "outputs": [
    {
     "name": "stdout",
     "output_type": "stream",
     "text": [
      "4\n"
     ]
    }
   ],
   "source": [
    "#tuple in python\n",
    "coordinates = (4,5)\n",
    "print(coordinates[0])\n",
    "#coordinates[1] =10 (tuple is imutable)\n"
   ]
  },
  {
   "cell_type": "code",
   "execution_count": 160,
   "id": "12c280c6-1765-45e6-ba2e-7cc22baf2189",
   "metadata": {},
   "outputs": [
    {
     "name": "stdout",
     "output_type": "stream",
     "text": [
      "top\n",
      "hello user!!\n",
      "bottom\n",
      "hello diya you are 20\n"
     ]
    }
   ],
   "source": [
    " #function in python\n",
    "def f1():\n",
    "    print(\"hello user!!\")\n",
    "print(\"top\")\n",
    "f1()\n",
    "print(\"bottom\")\n",
    "def f2(name , age):\n",
    "    print(\"hello \"+name +\" you are \" +str(age) )\n",
    "f2(\"diya\", 20)    "
   ]
  },
  {
   "cell_type": "code",
   "execution_count": 17,
   "id": "7e97d949-3c6f-4869-a87d-9f1c6b8fd178",
   "metadata": {},
   "outputs": [
    {
     "name": "stdout",
     "output_type": "stream",
     "text": [
      "27\n",
      "64\n"
     ]
    }
   ],
   "source": [
    "#return statement\n",
    "def cube(num):\n",
    "    return num*num*num\n",
    "print(cube(3))\n",
    "result = cube(4)\n",
    "print(result)"
   ]
  },
  {
   "cell_type": "code",
   "execution_count": 47,
   "id": "0a49e9be-488b-4769-8a25-b003777a4623",
   "metadata": {},
   "outputs": [
    {
     "name": "stdout",
     "output_type": "stream",
     "text": [
      "you are short female\n"
     ]
    }
   ],
   "source": [
    "#if statement in python\n",
    "is_female=True\n",
    "is_tall = False\n",
    "if is_female and is_tall: #(we can use OR operator)\n",
    "    print(\"you are a female or taller or both\")\n",
    "elif is_female and not(is_tall):\n",
    "    print(\"you are short female\")\n",
    "elif not(is_female) and not(is_tall):\n",
    "    print(\"you are not a female but are tall\")\n",
    "else:\n",
    "    print(\"you are not a female nor tall\")\n"
   ]
  },
  {
   "cell_type": "code",
   "execution_count": 63,
   "id": "e5df9257-3711-4d89-a871-f9bacb0bc0d1",
   "metadata": {},
   "outputs": [
    {
     "name": "stdout",
     "output_type": "stream",
     "text": [
      "40\n"
     ]
    }
   ],
   "source": [
    "def max_num(num1 , num2 ,num3):\n",
    "    if num1 >= num2 and num1 >= num3:\n",
    "        return num1\n",
    "    elif num2 >= num1 and num2>=num3:\n",
    "        return num2\n",
    "    else:\n",
    "        return num3\n",
    "print(max_num(3,40,5,))\n",
    "    "
   ]
  },
  {
   "cell_type": "code",
   "execution_count": 77,
   "id": "c0c832f7-eee3-411a-abd2-a45aa04cdbaa",
   "metadata": {},
   "outputs": [
    {
     "name": "stdin",
     "output_type": "stream",
     "text": [
      "enter first number:  5\n",
      "enter operator:  -\n",
      "enter second  number:  5\n"
     ]
    },
    {
     "name": "stdout",
     "output_type": "stream",
     "text": [
      "0.0\n"
     ]
    }
   ],
   "source": [
    "#basic calcutor\n",
    "num1 = float(input(\"enter first number: \"))\n",
    "op = input(\"enter operator: \")\n",
    "num2 = float(input(\"enter second  number: \"))\n",
    "if op ==\"+\":\n",
    "    print(num1+num2)\n",
    "elif op==\"-\":\n",
    "    print(num1-num2)\n",
    "elif op ==\"/\":\n",
    "    print(num1/num2)\n",
    "elif op == \"*\":\n",
    "    print(num1*num2)\n",
    "else:\n",
    "    print(\"Invalid operator\")\n"
   ]
  },
  {
   "cell_type": "code",
   "execution_count": 79,
   "id": "44253d6f-7684-4059-927a-b802c5e48a1a",
   "metadata": {},
   "outputs": [
    {
     "name": "stdout",
     "output_type": "stream",
     "text": [
      "novermber\n",
      "december\n"
     ]
    }
   ],
   "source": [
    "#dictionries in python\n",
    "month_conversions={\n",
    "    \"jan\":\"January\" ,\n",
    "    \"fab\":\"Fabruary\",\n",
    "    \"mar\":\"March\",\n",
    "    \"apr\":\"April\",\n",
    "    \"may\":\"May\",\n",
    "    \"jun\":\"June\",\n",
    "    \"jul\":\"July\",\n",
    "    \"aug\":\"August\",\n",
    "    \"sep\":\"september\",\n",
    "    \"oct\":\"october\",\n",
    "    \"nov\":\"novermber\",\n",
    "    \"dec\":\"december\"\n",
    "}\n",
    "print(month_conversions[\"nov\"])\n",
    "print(month_conversions.get(\"dec\"))"
   ]
  },
  {
   "cell_type": "code",
   "execution_count": 1,
   "id": "6fb38826-e10e-4db0-9bcb-7c215c600d78",
   "metadata": {},
   "outputs": [
    {
     "name": "stdout",
     "output_type": "stream",
     "text": [
      "1\n",
      "2\n",
      "3\n",
      "4\n",
      "5\n",
      "6\n",
      "7\n",
      "8\n",
      "9\n",
      "10\n",
      "done with loop\n"
     ]
    }
   ],
   "source": [
    "#while loop\n",
    "i=1\n",
    "while i <=10:\n",
    "    print(i)\n",
    "    i = i + 1 #(i +=1)\n",
    "print(\"done with loop\")"
   ]
  },
  {
   "cell_type": "code",
   "execution_count": 3,
   "id": "67cc81d1-ecca-47f3-94e2-743373b92482",
   "metadata": {},
   "outputs": [
    {
     "name": "stdin",
     "output_type": "stream",
     "text": [
      "enter guess :  gi\n",
      "enter guess :  diya\n",
      "enter guess :  diyass\n"
     ]
    },
    {
     "name": "stdout",
     "output_type": "stream",
     "text": [
      "Out Of Guesses , You Loss!\n"
     ]
    }
   ],
   "source": [
    "#building guessing game\n",
    "secret_word =\"giraffe\"\n",
    "guess = \"\"\n",
    "guess_count= 0\n",
    "guess_limit = 3\n",
    "out_of_guesses = False\n",
    "while guess !=secret_word and not(out_of_guesses):\n",
    "    if guess_count < guess_limit:\n",
    "     guess=input(\"enter guess : \")\n",
    "     guess_count +=1\n",
    "    else:\n",
    "        out_of_guesses = True\n",
    "if out_of_guesses:\n",
    "    print(\"Out Of Guesses , You Loss!\")\n",
    "else:\n",
    "    print(\"You Win!\")\n",
    "    "
   ]
  },
  {
   "cell_type": "code",
   "execution_count": 1,
   "id": "1bad98d7-099a-442f-9561-562abb710c59",
   "metadata": {},
   "outputs": [
    {
     "name": "stdout",
     "output_type": "stream",
     "text": [
      "['diya', 'siya', 'pooja']\n",
      "['diya', 'siya', 'pooja']\n",
      "['diya', 'siya', 'pooja']\n",
      "G\n",
      "i\n",
      "r\n",
      "a\n",
      "f\n",
      "f\n",
      "e\n",
      " \n",
      "a\n",
      "c\n",
      "a\n",
      "d\n",
      "e\n",
      "m\n",
      "y\n",
      "0\n",
      "1\n",
      "2\n",
      "3\n",
      "4\n",
      "5\n",
      "6\n",
      "7\n",
      "8\n",
      "9\n",
      "3\n",
      "4\n",
      "5\n",
      "6\n",
      "7\n",
      "8\n",
      "9\n"
     ]
    }
   ],
   "source": [
    "#for loop\n",
    "friends =[\"diya\",\"siya\",\"pooja\"]\n",
    "for friend in friends:\n",
    "    print(friends)\n",
    "for letter in \"Giraffe academy\":\n",
    "    print(letter)\n",
    "for index in range(10):\n",
    "    print(index)\n",
    "\n",
    "for index in range(3,10):\n",
    "    print(index)"
   ]
  },
  {
   "cell_type": "code",
   "execution_count": 3,
   "id": "5070ee36-8625-4d5d-a7da-0f7c7dd4821c",
   "metadata": {},
   "outputs": [
    {
     "name": "stdout",
     "output_type": "stream",
     "text": [
      "9\n"
     ]
    }
   ],
   "source": [
    "#exponent function\n",
    "def raise_to_power(base_num, pow_num):\n",
    "    result = 1 \n",
    "    for index in range(pow_num):\n",
    "         result = result*base_num\n",
    "    return result\n",
    "\n",
    "print(raise_to_power(3,2))"
   ]
  },
  {
   "cell_type": "code",
   "execution_count": 7,
   "id": "3cc50f60-c5f0-4f66-9c14-6c6ce90bf932",
   "metadata": {},
   "outputs": [
    {
     "name": "stdout",
     "output_type": "stream",
     "text": [
      "[4, 5, 6]\n",
      "1\n"
     ]
    }
   ],
   "source": [
    "#2D list\n",
    "number_grid = [\n",
    "    [1,2,3],\n",
    "    [4,5,6],\n",
    "    [7,8,9],\n",
    "    [0]\n",
    "]\n",
    "print(number_grid[1])\n",
    "print(number_grid[0][0])"
   ]
  },
  {
   "cell_type": "code",
   "execution_count": 13,
   "id": "756f530f-f7ba-4e3b-a968-bf5ff8ab4b2e",
   "metadata": {},
   "outputs": [
    {
     "name": "stdout",
     "output_type": "stream",
     "text": [
      "[4, 5, 6]\n",
      "1\n",
      "[1, 2, 3]\n",
      "[4, 5, 6]\n",
      "[7, 8, 9]\n",
      "[0]\n",
      "0\n"
     ]
    }
   ],
   "source": [
    "#2D list\n",
    "number_grid = [\n",
    "    [1,2,3],\n",
    "    [4,5,6],\n",
    "    [7,8,9],\n",
    "    [0]\n",
    "]\n",
    "print(number_grid[1])\n",
    "print(number_grid[0][0])\n",
    "for row in number_grid:\n",
    "   print(row)\n",
    "\n",
    "for col in row:\n",
    "    print(col)"
   ]
  },
  {
   "cell_type": "code",
   "execution_count": 15,
   "id": "c6abdb04-e4c1-47dd-a92f-9573fc175aa4",
   "metadata": {},
   "outputs": [
    {
     "name": "stdin",
     "output_type": "stream",
     "text": [
      "enter a phrase  :  diya\n"
     ]
    },
    {
     "name": "stdout",
     "output_type": "stream",
     "text": [
      "dgyg\n"
     ]
    }
   ],
   "source": [
    "#build traslator\n",
    "def translate(phrase):\n",
    "    translation = \"\"\n",
    "    for letter in phrase:\n",
    "        if letter in \"AEIOUaeiou\":\n",
    "            translation = translation +\"g\" \n",
    "        else:\n",
    "            translation = translation + letter\n",
    "\n",
    "    return translation\n",
    "\n",
    "print(translate(input(\"enter a phrase  : \")))"
   ]
  },
  {
   "cell_type": "code",
   "execution_count": 17,
   "id": "eb330ad9-80f2-4ab6-984d-b7054d957de2",
   "metadata": {},
   "outputs": [
    {
     "name": "stdin",
     "output_type": "stream",
     "text": [
      "enter a phrase  :  DIYA\n"
     ]
    },
    {
     "name": "stdout",
     "output_type": "stream",
     "text": [
      "DGYG\n"
     ]
    }
   ],
   "source": [
    "#build traslator\n",
    "def translate(phrase):\n",
    "    translation = \"\"\n",
    "    for letter in phrase:\n",
    "        if letter.lower() in \"aeiou\":\n",
    "            if letter.isupper():\n",
    "                 translation = translation +\"G\"\n",
    "            else:\n",
    "                translation = translation +\"g\" \n",
    "        else:\n",
    "            translation = translation + letter\n",
    "\n",
    "    return translation\n",
    "\n",
    "print(translate(input(\"enter a phrase  : \")))"
   ]
  },
  {
   "cell_type": "code",
   "execution_count": 6,
   "id": "5f3e6798-061d-4b43-91e8-c9e7c05218f3",
   "metadata": {},
   "outputs": [
    {
     "name": "stdin",
     "output_type": "stream",
     "text": [
      "Enter a number :  10\n"
     ]
    },
    {
     "name": "stdout",
     "output_type": "stream",
     "text": [
      "10\n"
     ]
    }
   ],
   "source": [
    "#try/expect\n",
    "try:\n",
    "    answer = 10/10\n",
    "    number = int(input(\"Enter a number : \"))\n",
    "    print(number)\n",
    "except ZeroDivisionError as err:\n",
    "    print(err)\n",
    "except ValueError:\n",
    "    print(\"invalid input\")"
   ]
  },
  {
   "cell_type": "code",
   "execution_count": 8,
   "id": "ce14d487-c569-45b0-a785-e19c2a45e99e",
   "metadata": {},
   "outputs": [
    {
     "ename": "FileNotFoundError",
     "evalue": "[Errno 2] No such file or directory: 'ct1dlr.txt'",
     "output_type": "error",
     "traceback": [
      "\u001b[1;31m---------------------------------------------------------------------------\u001b[0m",
      "\u001b[1;31mFileNotFoundError\u001b[0m                         Traceback (most recent call last)",
      "Cell \u001b[1;32mIn[8], line 2\u001b[0m\n\u001b[0;32m      1\u001b[0m \u001b[38;5;66;03m#reading File\u001b[39;00m\n\u001b[1;32m----> 2\u001b[0m ct \u001b[38;5;241m=\u001b[39m \u001b[38;5;28mopen\u001b[39m(\u001b[38;5;124m\"\u001b[39m\u001b[38;5;124mct1dlr.txt\u001b[39m\u001b[38;5;124m\"\u001b[39m,\u001b[38;5;124m\"\u001b[39m\u001b[38;5;124mr\u001b[39m\u001b[38;5;124m\"\u001b[39m)\n\u001b[0;32m      3\u001b[0m \u001b[38;5;28mprint\u001b[39m(ct\u001b[38;5;241m.\u001b[39mreadable())\n\u001b[0;32m      4\u001b[0m \u001b[38;5;28mprint\u001b[39m(ct\u001b[38;5;241m.\u001b[39mreadline())\n",
      "File \u001b[1;32mC:\\ProgramData\\anaconda3\\Lib\\site-packages\\IPython\\core\\interactiveshell.py:324\u001b[0m, in \u001b[0;36m_modified_open\u001b[1;34m(file, *args, **kwargs)\u001b[0m\n\u001b[0;32m    317\u001b[0m \u001b[38;5;28;01mif\u001b[39;00m file \u001b[38;5;129;01min\u001b[39;00m {\u001b[38;5;241m0\u001b[39m, \u001b[38;5;241m1\u001b[39m, \u001b[38;5;241m2\u001b[39m}:\n\u001b[0;32m    318\u001b[0m     \u001b[38;5;28;01mraise\u001b[39;00m \u001b[38;5;167;01mValueError\u001b[39;00m(\n\u001b[0;32m    319\u001b[0m         \u001b[38;5;124mf\u001b[39m\u001b[38;5;124m\"\u001b[39m\u001b[38;5;124mIPython won\u001b[39m\u001b[38;5;124m'\u001b[39m\u001b[38;5;124mt let you open fd=\u001b[39m\u001b[38;5;132;01m{\u001b[39;00mfile\u001b[38;5;132;01m}\u001b[39;00m\u001b[38;5;124m by default \u001b[39m\u001b[38;5;124m\"\u001b[39m\n\u001b[0;32m    320\u001b[0m         \u001b[38;5;124m\"\u001b[39m\u001b[38;5;124mas it is likely to crash IPython. If you know what you are doing, \u001b[39m\u001b[38;5;124m\"\u001b[39m\n\u001b[0;32m    321\u001b[0m         \u001b[38;5;124m\"\u001b[39m\u001b[38;5;124myou can use builtins\u001b[39m\u001b[38;5;124m'\u001b[39m\u001b[38;5;124m open.\u001b[39m\u001b[38;5;124m\"\u001b[39m\n\u001b[0;32m    322\u001b[0m     )\n\u001b[1;32m--> 324\u001b[0m \u001b[38;5;28;01mreturn\u001b[39;00m io_open(file, \u001b[38;5;241m*\u001b[39margs, \u001b[38;5;241m*\u001b[39m\u001b[38;5;241m*\u001b[39mkwargs)\n",
      "\u001b[1;31mFileNotFoundError\u001b[0m: [Errno 2] No such file or directory: 'ct1dlr.txt'"
     ]
    }
   ],
   "source": [
    "#reading File\n",
    "ct = open(\"ct1dlr.txt\",\"r\")\n",
    "print(ct.readable())\n",
    "print(ct.readline())\n",
    "print(ct.readlines())\n",
    "ct.close()"
   ]
  },
  {
   "cell_type": "code",
   "execution_count": null,
   "id": "46c49d06-8615-4d48-9628-6cb754fba1f3",
   "metadata": {},
   "outputs": [],
   "source": []
  }
 ],
 "metadata": {
  "kernelspec": {
   "display_name": "Python [conda env:base] *",
   "language": "python",
   "name": "conda-base-py"
  },
  "language_info": {
   "codemirror_mode": {
    "name": "ipython",
    "version": 3
   },
   "file_extension": ".py",
   "mimetype": "text/x-python",
   "name": "python",
   "nbconvert_exporter": "python",
   "pygments_lexer": "ipython3",
   "version": "3.12.7"
  }
 },
 "nbformat": 4,
 "nbformat_minor": 5
}
