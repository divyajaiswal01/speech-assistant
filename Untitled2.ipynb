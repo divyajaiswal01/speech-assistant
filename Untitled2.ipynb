{
 "cells": [
  {
   "cell_type": "code",
   "execution_count": 2,
   "id": "1a99157e-15f6-40b8-b3f4-ee252e9a9a68",
   "metadata": {},
   "outputs": [],
   "source": [
    "import speech_recognition as sr\n",
    "import webbrowser as web"
   ]
  },
  {
   "cell_type": "code",
   "execution_count": 8,
   "id": "b5bcf4a4-6c29-4631-b1ca-f9b06bb658c7",
   "metadata": {},
   "outputs": [
    {
     "name": "stdout",
     "output_type": "stream",
     "text": [
      "Please say something\n",
      "Recognizing Now....\n",
      "Error : \n"
     ]
    }
   ],
   "source": [
    "if __name__ == \"__main__\":\n",
    "    path = \"C:/Program Files (x86)/Google/Chrome/Application/chrome.exe. %s\"\n",
    "    r = sr.Recognizer()\n",
    "    with sr.Microphone() as source:\n",
    "        r.adjust_for_ambient_noise(source)\n",
    "\n",
    "        print(\"Please say something\")\n",
    "\n",
    "        audio = r.listen(source)\n",
    "        print(\"Recognizing Now....\")\n",
    "\n",
    "        try:\n",
    "            dest = r.recognize_google(audio)\n",
    "            print(\"You Have Said : \"+dest)\n",
    "\n",
    "            web.get(path).open(dest)\n",
    "            \n",
    "        except Exception as e:\n",
    "            print(\"Error : \" +str(e))     "
   ]
  },
  {
   "cell_type": "code",
   "execution_count": null,
   "id": "633ee70d-1722-484e-9ee5-e0c80732598e",
   "metadata": {},
   "outputs": [],
   "source": []
  },
  {
   "cell_type": "code",
   "execution_count": null,
   "id": "c552213b-abf0-4a80-9596-c16c244780e4",
   "metadata": {},
   "outputs": [],
   "source": []
  }
 ],
 "metadata": {
  "kernelspec": {
   "display_name": "Python [conda env:base] *",
   "language": "python",
   "name": "conda-base-py"
  },
  "language_info": {
   "codemirror_mode": {
    "name": "ipython",
    "version": 3
   },
   "file_extension": ".py",
   "mimetype": "text/x-python",
   "name": "python",
   "nbconvert_exporter": "python",
   "pygments_lexer": "ipython3",
   "version": "3.12.7"
  }
 },
 "nbformat": 4,
 "nbformat_minor": 5
}
