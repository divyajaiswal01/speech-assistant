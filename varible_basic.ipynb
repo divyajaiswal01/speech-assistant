{
 "cells": [
  {
   "cell_type": "code",
   "execution_count": 7,
   "id": "7272f20d-b089-497e-80a6-745004941e6f",
   "metadata": {},
   "outputs": [
    {
     "name": "stdout",
     "output_type": "stream",
     "text": [
      "hello\n"
     ]
    }
   ],
   "source": [
    "print(\"hello\")"
   ]
  },
  {
   "cell_type": "code",
   "execution_count": 29,
   "id": "0d07560e-73cd-4054-8832-e7389275ac59",
   "metadata": {},
   "outputs": [
    {
     "name": "stdout",
     "output_type": "stream",
     "text": [
      "diya\n",
      "diya\n",
      "DIYA\n",
      "True\n",
      "4\n",
      "i\n",
      "0\n",
      "0\n",
      "siya\n"
     ]
    }
   ],
   "source": [
    "phrase =\"diya\"\n",
    "print(phrase)\n",
    "print(phrase.lower())\n",
    "print(phrase.upper())\n",
    "print(phrase.upper().isupper())\n",
    "print(len(phrase))\n",
    "print(phrase[1])\n",
    "print(phrase.index(\"d\"))\n",
    "print(phrase.index(\"diya\"))\n",
    "print(phrase.replace(\"diya\",\"siya\"))"
   ]
  },
  {
   "cell_type": "code",
   "execution_count": 65,
   "id": "489300a2-396a-4a78-bba1-a3e043415031",
   "metadata": {},
   "outputs": [
    {
     "name": "stdout",
     "output_type": "stream",
     "text": [
      "10\n",
      "2.9\n",
      "-10\n",
      "100\n",
      "15\n",
      "1\n",
      "10\n",
      "10\n",
      "1024\n",
      "6\n",
      "4\n",
      "4\n"
     ]
    }
   ],
   "source": [
    "print(10)\n",
    "print(2.90)\n",
    "print(-10)\n",
    "print(10*10)\n",
    "print(10+10-5)\n",
    "print(10%3)\n",
    "my_num=10\n",
    "print(my_num)\n",
    "my_num1=-10\n",
    "print(abs(my_num1))#10 is absulute value of -10\n",
    "print(pow(4,5))\n",
    "print(max(4,6))\n",
    "print(round(3.8))\n",
    "print(min(4 ,6))\n"
   ]
  },
  {
   "cell_type": "code",
   "execution_count": 85,
   "id": "e8cd6c22-7cc3-405e-9746-febbcaded82e",
   "metadata": {},
   "outputs": [
    {
     "name": "stdout",
     "output_type": "stream",
     "text": [
      "4\n",
      "10\n",
      "4\n",
      "5.0\n"
     ]
    }
   ],
   "source": [
    "from math import *\n",
    "my_num=10\n",
    "print(round(4.5))\n",
    "print(floor(10.3))\n",
    "print(ceil(3.3))#always gives upper value \n",
    "print(sqrt(25))"
   ]
  },
  {
   "cell_type": "code",
   "execution_count": 97,
   "id": "d83b909d-e2c9-4620-a20d-87cdffab42d1",
   "metadata": {},
   "outputs": [
    {
     "name": "stdin",
     "output_type": "stream",
     "text": [
      "enter your name :  do\n",
      "enter your age :  20\n"
     ]
    },
    {
     "name": "stdout",
     "output_type": "stream",
     "text": [
      "hello do! you are 20\n"
     ]
    }
   ],
   "source": [
    "#getting info\n",
    "name = input(\"enter your name : \")\n",
    "age = input(\"enter your age : \")\n",
    "print(\"hello \" +name +\"! you are \" +age)"
   ]
  },
  {
   "cell_type": "code",
   "execution_count": 115,
   "id": "646cd48d-5e6a-4365-b36f-7d9fc70dacae",
   "metadata": {},
   "outputs": [
    {
     "name": "stdin",
     "output_type": "stream",
     "text": [
      "enter a number : 2.3\n",
      "enter another number : 2\n"
     ]
    },
    {
     "name": "stdout",
     "output_type": "stream",
     "text": [
      "4.3\n"
     ]
    }
   ],
   "source": [
    "#basic calculator\n",
    "num1 =input (\"enter a number :\")\n",
    "num2 =input (\"enter another number :\")\n",
    "result= float(num1)+ float(num2)\n",
    "print(result)"
   ]
  },
  {
   "cell_type": "code",
   "execution_count": 123,
   "id": "9e3d2230-d6a3-4c0d-8b3e-6d89946038cb",
   "metadata": {},
   "outputs": [
    {
     "name": "stdin",
     "output_type": "stream",
     "text": [
      "enter a color red\n",
      "enter a plural noun:  violet\n",
      "enter a celebrity:  salman\n"
     ]
    },
    {
     "name": "stdout",
     "output_type": "stream",
     "text": [
      "roses are red\n",
      "violet is  blue\n",
      "i love salman\n"
     ]
    }
   ],
   "source": [
    "#mad libs game\n",
    "color = input (\"enter a color\")\n",
    "plural_noun =input(\"enter a plural noun: \")\n",
    "celebrity = input(\"enter a celebrity: \")\n",
    "print(\"roses are \"  + color)\n",
    "print(plural_noun + \" is  blue\")\n",
    "print(\"i love \" + celebrity)"
   ]
  },
  {
   "cell_type": "code",
   "execution_count": 149,
   "id": "2a20eb08-7324-49aa-ac89-36d2715406bd",
   "metadata": {},
   "outputs": [
    {
     "name": "stdout",
     "output_type": "stream",
     "text": [
      "['pooja', 'siya', 'nilofer']\n",
      "pooja\n",
      "nilofer\n",
      "['pooja', 'siya', 'nilofer']\n",
      "nilu\n"
     ]
    }
   ],
   "source": [
    "#list\n",
    "friends=[\"pooja\",\"siya\",\"nilofer\"]\n",
    "print(friends)\n",
    "print(friends[0])\n",
    "print(friends[-1])\n",
    "print(friends[0:])\n",
    "friends[2] = \"nilu\"\n",
    "print(friends[2])"
   ]
  },
  {
   "cell_type": "code",
   "execution_count": null,
   "id": "a57a6b1e-7e60-4085-9e65-81f22a53fd40",
   "metadata": {},
   "outputs": [],
   "source": []
  }
 ],
 "metadata": {
  "kernelspec": {
   "display_name": "Python [conda env:base] *",
   "language": "python",
   "name": "conda-base-py"
  },
  "language_info": {
   "codemirror_mode": {
    "name": "ipython",
    "version": 3
   },
   "file_extension": ".py",
   "mimetype": "text/x-python",
   "name": "python",
   "nbconvert_exporter": "python",
   "pygments_lexer": "ipython3",
   "version": "3.12.7"
  }
 },
 "nbformat": 4,
 "nbformat_minor": 5
}
